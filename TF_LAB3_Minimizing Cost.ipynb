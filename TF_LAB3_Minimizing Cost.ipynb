{
  "nbformat": 4,
  "nbformat_minor": 0,
  "metadata": {
    "colab": {
      "name": "Untitled1.ipynb",
      "provenance": [],
      "authorship_tag": "ABX9TyMPn8PBUdnTsTi4mpj5PgG8",
      "include_colab_link": true
    },
    "kernelspec": {
      "name": "python3",
      "display_name": "Python 3"
    }
  },
  "cells": [
    {
      "cell_type": "markdown",
      "metadata": {
        "id": "view-in-github",
        "colab_type": "text"
      },
      "source": [
        "<a href=\"https://colab.research.google.com/github/kjcnim/Learned/blob/main/TF_LAB3_Minimizing%20Cost.ipynb\" target=\"_parent\"><img src=\"https://colab.research.google.com/assets/colab-badge.svg\" alt=\"Open In Colab\"/></a>"
      ]
    },
    {
      "cell_type": "code",
      "metadata": {
        "id": "bfDLfefMgEtR"
      },
      "source": [
        "import tensorflow as tf\r\n",
        "import matplotlib.pyplot as plt\r\n",
        "import numpy as np\r\n",
        "\r\n",
        "#Training set\r\n",
        "x_train = [1,2,3,4]\r\n",
        "y_train = [0, -1, -2, -3]\r\n",
        "\r\n",
        "#Keras의 다차원 계층 모델인 Sequential layer를 만든다.\r\n",
        "tf.model = tf.keras.Sequential()\r\n",
        "\r\n",
        "#입력이 1차원, 출력이 1차원임을 뜻한다. Dense는 layer의 종류\r\n",
        "tf.model.add(tf.keras.layers.Dense(units = 1, input_dim = 1))\r\n",
        "\r\n",
        "#확률적 경사 하강법 사용한다.\r\n",
        "sgd = tf.keras.optimizers.SGD(lr = 0.1)\r\n",
        "\r\n",
        "#cost/loss function\r\n",
        "#loss를 mean_squared_error 방식을 사용한다는 의미\r\n",
        "tf.model.compile(loss = 'mse', optimizer=sgd)\r\n",
        "\r\n",
        "#print summary of the model to the terminal\r\n",
        "tf.model.summary()\r\n",
        "\r\n",
        "#100번 훈련시킴. 각각의 점들을 그래프로 그리기 위해 history variable에 받음\r\n",
        "history = tf.model.fit(x_train, y_train, epochs = 100)\r\n",
        "\r\n",
        "#predict output 출력\r\n",
        "y_predict = tf.model.predict(np.array([5,4]))\r\n",
        "print(y_predict)\r\n",
        "\r\n",
        "#Plot training & Validation loss values\r\n",
        "#기본적인 그래프 그리기\r\n",
        "plt.plot(history.history['loss'])\r\n",
        "plt.title('Model loss')\r\n",
        "plt.ylabel('Loss')\r\n",
        "plt.xlabel('Epoch')\r\n",
        "plt.legend(['Train', 'Test'], loc = 'upper left')\r\n",
        "plt.show()\r\n",
        "\r\n"
      ],
      "execution_count": null,
      "outputs": []
    }
  ]
}